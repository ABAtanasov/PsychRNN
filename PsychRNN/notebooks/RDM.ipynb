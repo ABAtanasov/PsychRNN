{
 "cells": [
  {
   "cell_type": "code",
   "execution_count": 1,
   "metadata": {},
   "outputs": [
    {
     "name": "stderr",
     "output_type": "stream",
     "text": [
      "/Users/jasminestone/anaconda2/envs/py27tensorflow/lib/python2.7/site-packages/h5py/__init__.py:36: FutureWarning: Conversion of the second argument of issubdtype from `float` to `np.floating` is deprecated. In future, it will be treated as `np.float64 == np.dtype(float).type`.\n",
      "  from ._conv import register_converters as _register_converters\n"
     ]
    }
   ],
   "source": [
    "import psychrnn\n",
    "from psychrnn.tasks import rdm as rd\n",
    "from psychrnn.backend.models.basic import Basic\n",
    "\n",
    "import tensorflow as tf\n",
    "from matplotlib import pyplot as plt\n",
    "%matplotlib inline"
   ]
  },
  {
   "cell_type": "markdown",
   "metadata": {},
   "source": [
    "define params globally first before passing to RDM, mess w/ model params and explain what can do. (can turn on and off dale's law). some masking, input output connectivity. train_params variables stuff"
   ]
  },
  {
   "cell_type": "code",
   "execution_count": 2,
   "metadata": {},
   "outputs": [],
   "source": [
    "dt = 10 # time-step\n",
    "tau = 100 # intrinsic time constant of neural state decay\n",
    "T = 2000 # time to run for (number of steps is T/dt)\n",
    "N_batch = 50 # number of trials per training step\n",
    "N_rec = 50 # number of recurrent units\n",
    "name = 'basicModel'"
   ]
  },
  {
   "cell_type": "code",
   "execution_count": 3,
   "metadata": {},
   "outputs": [],
   "source": [
    "rdm = rd.RDM(dt = dt, tau = tau, T = T, N_batch = N_batch)"
   ]
  },
  {
   "cell_type": "markdown",
   "metadata": {},
   "source": [
    "RDM puts the params passed in as well as other generated params into a dict we can then use to create our model. "
   ]
  },
  {
   "cell_type": "code",
   "execution_count": 4,
   "metadata": {},
   "outputs": [
    {
     "name": "stdout",
     "output_type": "stream",
     "text": [
      "{'tau': 100, 'N_in': 2, 'N_batch': 50, 'T': 2000, 'N_steps': 200, 'alpha': 0.1, 'dt': 10, 'N_out': 2}\n"
     ]
    }
   ],
   "source": [
    "params = rdm.__dict__\n",
    "print(params)"
   ]
  },
  {
   "cell_type": "markdown",
   "metadata": {},
   "source": [
    "Generate *N_batch* trials to be used in training"
   ]
  },
  {
   "cell_type": "code",
   "execution_count": 5,
   "metadata": {},
   "outputs": [],
   "source": [
    "gen = rdm.batch_generator()"
   ]
  },
  {
   "cell_type": "markdown",
   "metadata": {},
   "source": [
    "We add in a few params that Basic(RNN) needs but that RDM doesn't generate for us."
   ]
  },
  {
   "cell_type": "code",
   "execution_count": 6,
   "metadata": {},
   "outputs": [],
   "source": [
    "params['name'] = name #Used to scope out a namespace for global variables.\n",
    "params['N_rec'] = N_rec"
   ]
  },
  {
   "cell_type": "markdown",
   "metadata": {},
   "source": [
    "There are some other optional parameters we can add in:"
   ]
  },
  {
   "cell_type": "code",
   "execution_count": 7,
   "metadata": {},
   "outputs": [],
   "source": [
    "params['dale_ratio'] = None # Default: None -- when the dale_ratio is set, dale's law is applied\n",
    "params['rec_noise'] = 0.0 # Default: 0.0 -- how much noise to add to the new_state calculation\n",
    "params['W_in_train'] = True # Indicates whether W_in is trainable. Default: True\n",
    "params['W_rec_train'] = True # Indicates whether W_rec is trainable. Default: True\n",
    "params['W_out_train'] = True # Indicates whether W_out is trainable. Default: True\n",
    "params['b_rec_train'] = True # Indicates whether b_rec is trainable. Default: True\n",
    "params['b_out_train'] = True # Indicates whether b_out is trainable. Default: True\n",
    "params['init_state_train'] = True # Indicates whether init_state is trainable. Default: True\n",
    "params['load_weights_path'] = None # When given a path, loads weights from file in that path. Default: None"
   ]
  },
  {
   "cell_type": "markdown",
   "metadata": {},
   "source": [
    "Instantiate our model"
   ]
  },
  {
   "cell_type": "code",
   "execution_count": 8,
   "metadata": {},
   "outputs": [],
   "source": [
    "basicModel = Basic(params)"
   ]
  },
  {
   "cell_type": "markdown",
   "metadata": {},
   "source": [
    "Start a tensorflow session with loss, regularization, predictions, and regularized loss defined."
   ]
  },
  {
   "cell_type": "code",
   "execution_count": 9,
   "metadata": {},
   "outputs": [],
   "source": [
    "basicModel.build()"
   ]
  },
  {
   "cell_type": "markdown",
   "metadata": {},
   "source": [
    "Set the training parameters for our model. All of the parameters below are optional."
   ]
  },
  {
   "cell_type": "code",
   "execution_count": 10,
   "metadata": {},
   "outputs": [],
   "source": [
    "train_params = {}\n",
    "train_params['save_weights_path'] =  '../weights/refactor_weights.npz' # Where to save the model after training. Default: None\n",
    "train_params['training_iters'] = 100000 # number of iterations to train for Default: 10000\n",
    "train_params['learning_rate'] = .001 # Sets learning rate if use default optimizer Default: .001\n",
    "train_params['loss_epoch'] = 10 # Compute and record loss every 'loss_epoch' epochs. Default: 10\n",
    "train_params['verbosity'] = True # If true, prints information as training progresses. Default: True\n",
    "train_params['save_training_weights_epoch'] = 100 # save training weights every 'save_training_weights_epoch' epochs. Default: 100\n",
    "train_params['training_weights_path'] = None # where to save training weights as training progresses. Default: None\n",
    "train_params['generator_function'] = None # replaces trial_batch_generator with the generator_function when not none. Default: None\n",
    "train_params['optimizer'] = tf.train.AdamOptimizer(learning_rate=train_params['learning_rate']) # What optimizer to use to compute gradients. Default: tf.train.AdamOptimizer(learning_rate=train_params['learning_rate'])\n",
    "train_params['clip_grads'] = True # If true, clip gradients by norm 1. Default: True"
   ]
  },
  {
   "cell_type": "markdown",
   "metadata": {},
   "source": [
    "Train our model."
   ]
  },
  {
   "cell_type": "code",
   "execution_count": 11,
   "metadata": {},
   "outputs": [
    {
     "name": "stdout",
     "output_type": "stream",
     "text": [
      "WARNING:tensorflow:From /Users/jasminestone/anaconda2/envs/py27tensorflow/lib/python2.7/site-packages/tensorflow/python/ops/clip_ops.py:113: calling reduce_sum (from tensorflow.python.ops.math_ops) with keep_dims is deprecated and will be removed in a future version.\n",
      "Instructions for updating:\n",
      "keep_dims is deprecated, use keepdims instead\n",
      "Iter 500, Minibatch Loss= 0.225647\n",
      "Iter 1000, Minibatch Loss= 0.155618\n",
      "Iter 1500, Minibatch Loss= 0.141339\n",
      "Iter 2000, Minibatch Loss= 0.124116\n",
      "Iter 2500, Minibatch Loss= 0.117556\n",
      "Iter 3000, Minibatch Loss= 0.114681\n",
      "Iter 3500, Minibatch Loss= 0.117668\n",
      "Iter 4000, Minibatch Loss= 0.124333\n",
      "Iter 4500, Minibatch Loss= 0.117334\n",
      "Iter 5000, Minibatch Loss= 0.106762\n",
      "Iter 5500, Minibatch Loss= 0.096997\n",
      "Iter 6000, Minibatch Loss= 0.049483\n",
      "Iter 6500, Minibatch Loss= 0.031262\n",
      "Iter 7000, Minibatch Loss= 0.020954\n",
      "Iter 7500, Minibatch Loss= 0.036378\n",
      "Iter 8000, Minibatch Loss= 0.017591\n",
      "Iter 8500, Minibatch Loss= 0.014523\n",
      "Iter 9000, Minibatch Loss= 0.016982\n",
      "Iter 9500, Minibatch Loss= 0.043853\n",
      "Iter 10000, Minibatch Loss= 0.025205\n",
      "Iter 10500, Minibatch Loss= 0.013798\n",
      "Iter 11000, Minibatch Loss= 0.013404\n",
      "Iter 11500, Minibatch Loss= 0.011769\n",
      "Iter 12000, Minibatch Loss= 0.011737\n",
      "Iter 12500, Minibatch Loss= 0.011323\n",
      "Iter 13000, Minibatch Loss= 0.021880\n",
      "Iter 13500, Minibatch Loss= 0.012769\n",
      "Iter 14000, Minibatch Loss= 0.025274\n",
      "Iter 14500, Minibatch Loss= 0.010620\n",
      "Iter 15000, Minibatch Loss= 0.009069\n",
      "Iter 15500, Minibatch Loss= 0.011811\n",
      "Iter 16000, Minibatch Loss= 0.011813\n",
      "Iter 16500, Minibatch Loss= 0.008009\n",
      "Iter 17000, Minibatch Loss= 0.006509\n",
      "Iter 17500, Minibatch Loss= 0.009571\n",
      "Iter 18000, Minibatch Loss= 0.007045\n",
      "Iter 18500, Minibatch Loss= 0.008488\n",
      "Iter 19000, Minibatch Loss= 0.009660\n",
      "Iter 19500, Minibatch Loss= 0.006781\n",
      "Iter 20000, Minibatch Loss= 0.008770\n",
      "Iter 20500, Minibatch Loss= 0.008762\n",
      "Iter 21000, Minibatch Loss= 0.007014\n",
      "Iter 21500, Minibatch Loss= 0.008205\n",
      "Iter 22000, Minibatch Loss= 0.005532\n",
      "Iter 22500, Minibatch Loss= 0.006054\n",
      "Iter 23000, Minibatch Loss= 0.005521\n",
      "Iter 23500, Minibatch Loss= 0.007209\n",
      "Iter 24000, Minibatch Loss= 0.005349\n",
      "Iter 24500, Minibatch Loss= 0.005114\n",
      "Iter 25000, Minibatch Loss= 0.007444\n",
      "Iter 25500, Minibatch Loss= 0.007924\n",
      "Iter 26000, Minibatch Loss= 0.005677\n",
      "Iter 26500, Minibatch Loss= 0.006294\n",
      "Iter 27000, Minibatch Loss= 0.004779\n",
      "Iter 27500, Minibatch Loss= 0.005548\n",
      "Iter 28000, Minibatch Loss= 0.005122\n",
      "Iter 28500, Minibatch Loss= 0.004804\n",
      "Iter 29000, Minibatch Loss= 0.005669\n",
      "Iter 29500, Minibatch Loss= 0.005353\n",
      "Iter 30000, Minibatch Loss= 0.004505\n",
      "Iter 30500, Minibatch Loss= 0.004357\n",
      "Iter 31000, Minibatch Loss= 0.004817\n",
      "Iter 31500, Minibatch Loss= 0.004285\n",
      "Iter 32000, Minibatch Loss= 0.004283\n",
      "Iter 32500, Minibatch Loss= 0.004484\n",
      "Iter 33000, Minibatch Loss= 0.003933\n",
      "Iter 33500, Minibatch Loss= 0.004109\n",
      "Iter 34000, Minibatch Loss= 0.004122\n",
      "Iter 34500, Minibatch Loss= 0.004641\n",
      "Iter 35000, Minibatch Loss= 0.004299\n",
      "Iter 35500, Minibatch Loss= 0.003634\n",
      "Iter 36000, Minibatch Loss= 0.003981\n",
      "Iter 36500, Minibatch Loss= 0.005048\n",
      "Iter 37000, Minibatch Loss= 0.006426\n",
      "Iter 37500, Minibatch Loss= 0.009240\n",
      "Iter 38000, Minibatch Loss= 0.004495\n",
      "Iter 38500, Minibatch Loss= 0.004179\n",
      "Iter 39000, Minibatch Loss= 0.003795\n",
      "Iter 39500, Minibatch Loss= 0.004257\n",
      "Iter 40000, Minibatch Loss= 0.004056\n",
      "Iter 40500, Minibatch Loss= 0.003570\n",
      "Iter 41000, Minibatch Loss= 0.003764\n",
      "Iter 41500, Minibatch Loss= 0.003811\n",
      "Iter 42000, Minibatch Loss= 0.003747\n",
      "Iter 42500, Minibatch Loss= 0.003585\n",
      "Iter 43000, Minibatch Loss= 0.003925\n",
      "Iter 43500, Minibatch Loss= 0.003793\n",
      "Iter 44000, Minibatch Loss= 0.003534\n",
      "Iter 44500, Minibatch Loss= 0.003719\n",
      "Iter 45000, Minibatch Loss= 0.003589\n",
      "Iter 45500, Minibatch Loss= 0.003575\n",
      "Iter 46000, Minibatch Loss= 0.003947\n",
      "Iter 46500, Minibatch Loss= 0.003447\n",
      "Iter 47000, Minibatch Loss= 0.003370\n",
      "Iter 47500, Minibatch Loss= 0.003665\n",
      "Iter 48000, Minibatch Loss= 0.003247\n",
      "Iter 48500, Minibatch Loss= 0.003248\n",
      "Iter 49000, Minibatch Loss= 0.003254\n",
      "Iter 49500, Minibatch Loss= 0.003304\n",
      "Iter 50000, Minibatch Loss= 0.003419\n",
      "Iter 50500, Minibatch Loss= 0.003285\n",
      "Iter 51000, Minibatch Loss= 0.003273\n",
      "Iter 51500, Minibatch Loss= 0.003788\n",
      "Iter 52000, Minibatch Loss= 0.003505\n",
      "Iter 52500, Minibatch Loss= 0.003210\n",
      "Iter 53000, Minibatch Loss= 0.004636\n",
      "Iter 53500, Minibatch Loss= 0.003445\n",
      "Iter 54000, Minibatch Loss= 0.003195\n",
      "Iter 54500, Minibatch Loss= 0.003147\n",
      "Iter 55000, Minibatch Loss= 0.003414\n",
      "Iter 55500, Minibatch Loss= 0.003493\n",
      "Iter 56000, Minibatch Loss= 0.003088\n",
      "Iter 56500, Minibatch Loss= 0.003194\n",
      "Iter 57000, Minibatch Loss= 0.003266\n",
      "Iter 57500, Minibatch Loss= 0.003028\n",
      "Iter 58000, Minibatch Loss= 0.003103\n",
      "Iter 58500, Minibatch Loss= 0.003003\n",
      "Iter 59000, Minibatch Loss= 0.003079\n",
      "Iter 59500, Minibatch Loss= 0.002936\n",
      "Iter 60000, Minibatch Loss= 0.002936\n",
      "Iter 60500, Minibatch Loss= 0.003262\n",
      "Iter 61000, Minibatch Loss= 0.003216\n",
      "Iter 61500, Minibatch Loss= 0.003096\n",
      "Iter 62000, Minibatch Loss= 0.003000\n",
      "Iter 62500, Minibatch Loss= 0.003065\n",
      "Iter 63000, Minibatch Loss= 0.003082\n",
      "Iter 63500, Minibatch Loss= 0.002972\n",
      "Iter 64000, Minibatch Loss= 0.002792\n",
      "Iter 64500, Minibatch Loss= 0.002875\n",
      "Iter 65000, Minibatch Loss= 0.002986\n",
      "Iter 65500, Minibatch Loss= 0.003081\n",
      "Iter 66000, Minibatch Loss= 0.002947\n",
      "Iter 66500, Minibatch Loss= 0.002882\n",
      "Iter 67000, Minibatch Loss= 0.002791\n",
      "Iter 67500, Minibatch Loss= 0.002964\n",
      "Iter 68000, Minibatch Loss= 0.002747\n",
      "Iter 68500, Minibatch Loss= 0.002752\n",
      "Iter 69000, Minibatch Loss= 0.003165\n",
      "Iter 69500, Minibatch Loss= 0.002781\n",
      "Iter 70000, Minibatch Loss= 0.002608\n",
      "Iter 70500, Minibatch Loss= 0.002577\n",
      "Iter 71000, Minibatch Loss= 0.002535\n",
      "Iter 71500, Minibatch Loss= 0.002488\n",
      "Iter 72000, Minibatch Loss= 0.002591\n",
      "Iter 72500, Minibatch Loss= 0.002852\n",
      "Iter 73000, Minibatch Loss= 0.002551\n",
      "Iter 73500, Minibatch Loss= 0.002424\n",
      "Iter 74000, Minibatch Loss= 0.002413\n",
      "Iter 74500, Minibatch Loss= 0.002521\n",
      "Iter 75000, Minibatch Loss= 0.002426\n",
      "Iter 75500, Minibatch Loss= 0.002399\n",
      "Iter 76000, Minibatch Loss= 0.002402\n",
      "Iter 76500, Minibatch Loss= 0.002286\n",
      "Iter 77000, Minibatch Loss= 0.002516\n",
      "Iter 77500, Minibatch Loss= 0.002267\n",
      "Iter 78000, Minibatch Loss= 0.002298\n",
      "Iter 78500, Minibatch Loss= 0.002273\n",
      "Iter 79000, Minibatch Loss= 0.002290\n",
      "Iter 79500, Minibatch Loss= 0.002215\n",
      "Iter 80000, Minibatch Loss= 0.002218\n",
      "Iter 80500, Minibatch Loss= 0.002251\n",
      "Iter 81000, Minibatch Loss= 0.002201\n",
      "Iter 81500, Minibatch Loss= 0.002220\n",
      "Iter 82000, Minibatch Loss= 0.002077\n",
      "Iter 82500, Minibatch Loss= 0.002136\n",
      "Iter 83000, Minibatch Loss= 0.002127\n",
      "Iter 83500, Minibatch Loss= 0.026071\n",
      "Iter 84000, Minibatch Loss= 0.002723\n",
      "Iter 84500, Minibatch Loss= 0.002667\n",
      "Iter 85000, Minibatch Loss= 0.002777\n",
      "Iter 85500, Minibatch Loss= 0.002279\n",
      "Iter 86000, Minibatch Loss= 0.002274\n",
      "Iter 86500, Minibatch Loss= 0.002195\n",
      "Iter 87000, Minibatch Loss= 0.002045\n",
      "Iter 87500, Minibatch Loss= 0.002273\n",
      "Iter 88000, Minibatch Loss= 0.001997\n",
      "Iter 88500, Minibatch Loss= 0.002085\n",
      "Iter 89000, Minibatch Loss= 0.002033\n",
      "Iter 89500, Minibatch Loss= 0.001962\n",
      "Iter 90000, Minibatch Loss= 0.002144\n",
      "Iter 90500, Minibatch Loss= 0.001952\n",
      "Iter 91000, Minibatch Loss= 0.001851\n",
      "Iter 91500, Minibatch Loss= 0.001927\n",
      "Iter 92000, Minibatch Loss= 0.002038\n",
      "Iter 92500, Minibatch Loss= 0.001868\n",
      "Iter 93000, Minibatch Loss= 0.001886\n",
      "Iter 93500, Minibatch Loss= 0.001958\n",
      "Iter 94000, Minibatch Loss= 0.002071\n",
      "Iter 94500, Minibatch Loss= 0.001884\n",
      "Iter 95000, Minibatch Loss= 0.001884\n",
      "Iter 95500, Minibatch Loss= 0.001855\n",
      "Iter 96000, Minibatch Loss= 0.001883\n",
      "Iter 96500, Minibatch Loss= 0.001976\n",
      "Iter 97000, Minibatch Loss= 0.001900\n",
      "Iter 97500, Minibatch Loss= 0.001816\n",
      "Iter 98000, Minibatch Loss= 0.001754\n",
      "Iter 98500, Minibatch Loss= 0.001869\n",
      "Iter 99000, Minibatch Loss= 0.001787\n",
      "Iter 99500, Minibatch Loss= 0.001725\n",
      "Optimization finished!\n",
      "Model saved in file: ../weights/refactor_weights.npz\n"
     ]
    },
    {
     "data": {
      "text/plain": [
       "([0.22564714,\n",
       "  0.15561755,\n",
       "  0.1413392,\n",
       "  0.12411648,\n",
       "  0.117556065,\n",
       "  0.11468116,\n",
       "  0.117668435,\n",
       "  0.12433288,\n",
       "  0.11733355,\n",
       "  0.10676242,\n",
       "  0.09699695,\n",
       "  0.049482964,\n",
       "  0.031262152,\n",
       "  0.020953612,\n",
       "  0.036378246,\n",
       "  0.017590905,\n",
       "  0.014523358,\n",
       "  0.01698188,\n",
       "  0.043853488,\n",
       "  0.025204636,\n",
       "  0.013798025,\n",
       "  0.013403629,\n",
       "  0.011769015,\n",
       "  0.011737404,\n",
       "  0.011323303,\n",
       "  0.021880114,\n",
       "  0.012769013,\n",
       "  0.025273893,\n",
       "  0.010620414,\n",
       "  0.009069141,\n",
       "  0.011811233,\n",
       "  0.011813242,\n",
       "  0.008009192,\n",
       "  0.006509149,\n",
       "  0.009571192,\n",
       "  0.0070453826,\n",
       "  0.008488107,\n",
       "  0.009660457,\n",
       "  0.0067813965,\n",
       "  0.00876963,\n",
       "  0.008761512,\n",
       "  0.007013797,\n",
       "  0.008205344,\n",
       "  0.0055317758,\n",
       "  0.006053939,\n",
       "  0.00552105,\n",
       "  0.007208519,\n",
       "  0.0053493585,\n",
       "  0.005113881,\n",
       "  0.00744442,\n",
       "  0.007924496,\n",
       "  0.005676561,\n",
       "  0.0062944135,\n",
       "  0.0047793505,\n",
       "  0.0055482695,\n",
       "  0.0051221135,\n",
       "  0.0048042433,\n",
       "  0.005668904,\n",
       "  0.005353057,\n",
       "  0.0045053153,\n",
       "  0.0043571503,\n",
       "  0.004817103,\n",
       "  0.004284603,\n",
       "  0.004282665,\n",
       "  0.0044844314,\n",
       "  0.00393349,\n",
       "  0.0041090716,\n",
       "  0.004121959,\n",
       "  0.0046412125,\n",
       "  0.0042985063,\n",
       "  0.0036338172,\n",
       "  0.0039805067,\n",
       "  0.005048336,\n",
       "  0.0064262277,\n",
       "  0.009239794,\n",
       "  0.0044952217,\n",
       "  0.004179272,\n",
       "  0.0037948296,\n",
       "  0.0042570657,\n",
       "  0.004056161,\n",
       "  0.0035697331,\n",
       "  0.0037638603,\n",
       "  0.0038106046,\n",
       "  0.0037474807,\n",
       "  0.0035853595,\n",
       "  0.0039248224,\n",
       "  0.0037934799,\n",
       "  0.003534021,\n",
       "  0.0037192588,\n",
       "  0.0035890313,\n",
       "  0.0035751746,\n",
       "  0.003946579,\n",
       "  0.0034474013,\n",
       "  0.003369997,\n",
       "  0.0036645348,\n",
       "  0.0032474117,\n",
       "  0.0032477004,\n",
       "  0.003253629,\n",
       "  0.0033041236,\n",
       "  0.0034194207,\n",
       "  0.0032847652,\n",
       "  0.0032732491,\n",
       "  0.0037882556,\n",
       "  0.0035052807,\n",
       "  0.003210115,\n",
       "  0.00463624,\n",
       "  0.0034454002,\n",
       "  0.0031948055,\n",
       "  0.003147467,\n",
       "  0.0034137156,\n",
       "  0.0034925442,\n",
       "  0.0030876307,\n",
       "  0.003193734,\n",
       "  0.003265933,\n",
       "  0.0030277697,\n",
       "  0.003102808,\n",
       "  0.0030026545,\n",
       "  0.0030788945,\n",
       "  0.002936043,\n",
       "  0.0029359257,\n",
       "  0.003261721,\n",
       "  0.0032163162,\n",
       "  0.0030961924,\n",
       "  0.0029995597,\n",
       "  0.0030646825,\n",
       "  0.0030819532,\n",
       "  0.0029720787,\n",
       "  0.0027916615,\n",
       "  0.0028747746,\n",
       "  0.002986353,\n",
       "  0.0030814675,\n",
       "  0.002946883,\n",
       "  0.0028819782,\n",
       "  0.0027912504,\n",
       "  0.0029640147,\n",
       "  0.002746989,\n",
       "  0.0027517492,\n",
       "  0.0031647892,\n",
       "  0.0027805613,\n",
       "  0.0026077465,\n",
       "  0.0025772948,\n",
       "  0.0025354207,\n",
       "  0.0024881864,\n",
       "  0.0025909988,\n",
       "  0.002851548,\n",
       "  0.0025508674,\n",
       "  0.0024242748,\n",
       "  0.0024134018,\n",
       "  0.0025205452,\n",
       "  0.00242578,\n",
       "  0.0023988292,\n",
       "  0.0024020714,\n",
       "  0.0022862332,\n",
       "  0.0025158592,\n",
       "  0.002266588,\n",
       "  0.0022984005,\n",
       "  0.002272677,\n",
       "  0.0022904966,\n",
       "  0.0022147507,\n",
       "  0.0022177834,\n",
       "  0.0022505573,\n",
       "  0.002200927,\n",
       "  0.0022201764,\n",
       "  0.0020773064,\n",
       "  0.002135603,\n",
       "  0.0021271103,\n",
       "  0.026070606,\n",
       "  0.002723092,\n",
       "  0.0026669651,\n",
       "  0.0027773678,\n",
       "  0.0022791992,\n",
       "  0.0022737912,\n",
       "  0.0021948426,\n",
       "  0.0020445646,\n",
       "  0.002272708,\n",
       "  0.0019972846,\n",
       "  0.0020845898,\n",
       "  0.0020331321,\n",
       "  0.0019616645,\n",
       "  0.00214368,\n",
       "  0.0019517817,\n",
       "  0.00185114,\n",
       "  0.0019272927,\n",
       "  0.0020383988,\n",
       "  0.0018675751,\n",
       "  0.0018862202,\n",
       "  0.0019583944,\n",
       "  0.0020713196,\n",
       "  0.0018835922,\n",
       "  0.0018838701,\n",
       "  0.0018550489,\n",
       "  0.0018832101,\n",
       "  0.0019757082,\n",
       "  0.0019004643,\n",
       "  0.001816297,\n",
       "  0.0017540512,\n",
       "  0.0018686459,\n",
       "  0.0017871708,\n",
       "  0.0017247612],\n",
       " 524.4742708206177,\n",
       " 23.40700602531433)"
      ]
     },
     "execution_count": 11,
     "metadata": {},
     "output_type": "execute_result"
    }
   ],
   "source": [
    "basicModel.train(gen, train_params)"
   ]
  },
  {
   "cell_type": "markdown",
   "metadata": {},
   "source": [
    "### Plot results"
   ]
  },
  {
   "cell_type": "markdown",
   "metadata": {},
   "source": [
    "Extract the next trial from the generator"
   ]
  },
  {
   "cell_type": "code",
   "execution_count": 12,
   "metadata": {},
   "outputs": [],
   "source": [
    "x,y,m = next(gen)"
   ]
  },
  {
   "cell_type": "markdown",
   "metadata": {},
   "source": [
    "Plot the x value of the trial -- for the RDM, this includes two input neurons ith different coherence. TODO(jasmine):x is time step, y is magnitude of input (arbitrary)"
   ]
  },
  {
   "cell_type": "code",
   "execution_count": 13,
   "metadata": {},
   "outputs": [
    {
     "data": {
      "text/plain": [
       "[<matplotlib.lines.Line2D at 0x1829d05a90>,\n",
       " <matplotlib.lines.Line2D at 0x1829d05c10>]"
      ]
     },
     "execution_count": 13,
     "metadata": {},
     "output_type": "execute_result"
    },
    {
     "data": {
      "image/png": "[encoded data removed]",
      "text/plain": [
       "<matplotlib.figure.Figure at 0x1829b46d10>"
      ]
     },
     "metadata": {},
     "output_type": "display_data"
    }
   ],
   "source": [
    "plt.plot(x[0,:,:])"
   ]
  },
  {
   "cell_type": "markdown",
   "metadata": {},
   "source": [
    "Run the trained model on this trial (not included in the training set)."
   ]
  },
  {
   "cell_type": "code",
   "execution_count": 14,
   "metadata": {},
   "outputs": [
    {
     "data": {
      "text/plain": [
       "[<matplotlib.lines.Line2D at 0x1829d3c6d0>,\n",
       " <matplotlib.lines.Line2D at 0x1829d3c810>]"
      ]
     },
     "execution_count": 14,
     "metadata": {},
     "output_type": "execute_result"
    },
    {
     "data": {
      "image/png": "[encoded data removed]",
      "text/plain": [
       "<matplotlib.figure.Figure at 0x1829a832d0>"
      ]
     },
     "metadata": {},
     "output_type": "display_data"
    }
   ],
   "source": [
    "plt.plot(basicModel.test(x)[0][0,:,:])"
   ]
  },
  {
   "cell_type": "markdown",
   "metadata": {},
   "source": [
    "clean up the model to clear out the tensorflow namespace"
   ]
  },
  {
   "cell_type": "code",
   "execution_count": 15,
   "metadata": {},
   "outputs": [],
   "source": [
    "basicModel.destruct()"
   ]
  },
  {
   "cell_type": "code",
   "execution_count": null,
   "metadata": {},
   "outputs": [],
   "source": []
  }
 ],
 "metadata": {
  "kernelspec": {
   "display_name": "Python 3",
   "language": "python",
   "name": "python3"
  },
  "language_info": {
   "codemirror_mode": {
    "name": "ipython",
    "version": 3
   },
   "file_extension": ".py",
   "mimetype": "text/x-python",
   "name": "python",
   "nbconvert_exporter": "python",
   "pygments_lexer": "ipython3",
   "version": "3.6.6"
  }
 },
 "nbformat": 4,
 "nbformat_minor": 2
}
